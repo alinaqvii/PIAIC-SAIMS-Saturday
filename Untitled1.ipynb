{
 "cells": [
  {
   "cell_type": "code",
   "execution_count": 4,
   "metadata": {},
   "outputs": [
    {
     "name": "stdout",
     "output_type": "stream",
     "text": [
      "Enter First Number: 7\n",
      "Enter Second Number: 4\n",
      "Enter An Operator Like +,-,*,/: -\n",
      "3\n"
     ]
    }
   ],
   "source": [
    "try:\n",
    "    num1 = int(input(\"Enter First Number: \"))\n",
    "    num2 = int(input(\"Enter Second Number: \"))\n",
    "    op = input(\"Enter An Operator Like +,-,*,/: \")\n",
    "    if op == \"+\":\n",
    "        ans = num1+num2\n",
    "        print(ans)\n",
    "    elif op == \"-\":\n",
    "        ans = num1-num2\n",
    "        print(ans)\n",
    "    elif op == '/':\n",
    "        ans = num1/num2\n",
    "        print(ans)\n",
    "    elif op == \"*\":\n",
    "        ans = num1*num2\n",
    "        print(ans)\n",
    "    else:\n",
    "        print(\"Operator Not Defined\")\n",
    "except ValueError:\n",
    "    print(\"Invalid Sayntax\")\n",
    "    "
   ]
  },
  {
   "cell_type": "code",
   "execution_count": null,
   "metadata": {},
   "outputs": [],
   "source": []
  }
 ],
 "metadata": {
  "kernelspec": {
   "display_name": "Python 3",
   "language": "python",
   "name": "python3"
  },
  "language_info": {
   "codemirror_mode": {
    "name": "ipython",
    "version": 3
   },
   "file_extension": ".py",
   "mimetype": "text/x-python",
   "name": "python",
   "nbconvert_exporter": "python",
   "pygments_lexer": "ipython3",
   "version": "3.7.1"
  }
 },
 "nbformat": 4,
 "nbformat_minor": 2
}
